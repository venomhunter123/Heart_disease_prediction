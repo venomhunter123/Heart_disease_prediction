{
 "cells": [
  {
   "cell_type": "code",
   "execution_count": 1,
   "metadata": {
    "collapsed": true
   },
   "outputs": [],
   "source": [
    "import numpy as np\n",
    "import pandas as pd\n",
    "import seaborn as sns\n",
    "import math\n",
    "import matplotlib.pyplot as plt"
   ]
  },
  {
   "cell_type": "code",
   "execution_count": 3,
   "metadata": {
    "collapsed": false
   },
   "outputs": [],
   "source": [
    "df = pd.read_csv('heart_disease.csv')"
   ]
  },
  {
   "cell_type": "code",
   "execution_count": 4,
   "metadata": {
    "collapsed": false
   },
   "outputs": [
    {
     "data": {
      "text/plain": [
       "age          0\n",
       "sex          0\n",
       "cp          10\n",
       "trestbps     0\n",
       "chol         0\n",
       "fbs          0\n",
       "restecg      0\n",
       "thalach      0\n",
       "exang        0\n",
       "oldpeak      0\n",
       "slope        0\n",
       "ca           0\n",
       "thal         0\n",
       "target       0\n",
       "dtype: int64"
      ]
     },
     "execution_count": 4,
     "metadata": {},
     "output_type": "execute_result"
    }
   ],
   "source": [
    "df.isnull().sum()"
   ]
  },
  {
   "cell_type": "markdown",
   "metadata": {},
   "source": [
    "##### As the coulmn cp (chest pain) has missing values, we need to impute the data. \n",
    "\n",
    "###### The data is numeric and hence mean stratergy will be a suitable choice."
   ]
  },
  {
   "cell_type": "code",
   "execution_count": 5,
   "metadata": {
    "collapsed": true
   },
   "outputs": [],
   "source": [
    "from sklearn.preprocessing import Imputer\n",
    "imput = Imputer(missing_values='NaN',strategy='mean')\n",
    "df = list(imput.fit_transform(df))\n",
    "\n",
    "for i in range(303):\n",
    "    for j in range(14):\n",
    "        df[i][j] = math.ceil(df[i][j])"
   ]
  },
  {
   "cell_type": "code",
   "execution_count": 6,
   "metadata": {
    "collapsed": true
   },
   "outputs": [],
   "source": [
    "df = pd.DataFrame(df)"
   ]
  },
  {
   "cell_type": "code",
   "execution_count": 7,
   "metadata": {
    "collapsed": true
   },
   "outputs": [],
   "source": [
    "df=df.rename(columns={0: 'age', 1:'sex', 2:'cp', 3:'trestbps',4: 'chol',5: 'fbs',6: 'restecg',7: 'thalach',8: 'exang',9: 'oldpeak',10: 'slope',11: 'ca',12: 'thal',13:'target'})"
   ]
  },
  {
   "cell_type": "code",
   "execution_count": 8,
   "metadata": {
    "collapsed": true
   },
   "outputs": [],
   "source": [
    "from sklearn.ensemble import RandomForestClassifier"
   ]
  },
  {
   "cell_type": "code",
   "execution_count": 9,
   "metadata": {
    "collapsed": true
   },
   "outputs": [],
   "source": [
    "x = df.iloc[:,:-1]"
   ]
  },
  {
   "cell_type": "code",
   "execution_count": 10,
   "metadata": {
    "collapsed": true
   },
   "outputs": [],
   "source": [
    "y = df.iloc[:,-1]"
   ]
  },
  {
   "cell_type": "code",
   "execution_count": 11,
   "metadata": {
    "collapsed": true
   },
   "outputs": [],
   "source": []
  },
  {
   "cell_type": "code",
   "execution_count": 12,
   "metadata": {
    "collapsed": false
   },
   "outputs": [
    {
     "data": {
      "text/plain": [
       "thal        0.127732\n",
       "ca          0.117530\n",
       "thalach     0.115284\n",
       "cp          0.114049\n",
       "age         0.092933\n",
       "chol        0.086188\n",
       "trestbps    0.079302\n",
       "oldpeak     0.072846\n",
       "exang       0.065039\n",
       "slope       0.062542\n",
       "sex         0.036971\n",
       "restecg     0.019255\n",
       "fbs         0.010329\n",
       "dtype: float64"
      ]
     },
     "execution_count": 12,
     "metadata": {},
     "output_type": "execute_result"
    }
   ],
   "source": [
    "model= RandomForestClassifier(n_estimators=100,random_state=0)\n",
    "model.fit(x,y)\n",
    "pd.Series(model.feature_importances_,index=x.columns).sort_values(ascending=False)"
   ]
  },
  {
   "cell_type": "code",
   "execution_count": 13,
   "metadata": {
    "collapsed": true
   },
   "outputs": [],
   "source": [
    "from sklearn.model_selection import train_test_split\n",
    "from sklearn.ensemble import RandomForestClassifier\n",
    "from sklearn.metrics import confusion_matrix\n",
    "from sklearn.metrics import precision_recall_fscore_support\n",
    "from sklearn.metrics import accuracy_score"
   ]
  },
  {
   "cell_type": "code",
   "execution_count": 14,
   "metadata": {
    "collapsed": true
   },
   "outputs": [],
   "source": []
  },
  {
   "cell_type": "code",
   "execution_count": 15,
   "metadata": {
    "collapsed": true
   },
   "outputs": [],
   "source": [
    "number=[0,1,2]\n",
    "for col in df.itertuples():\n",
    "\n",
    "    if col.cp in number:\n",
    "        df['cp'].replace(to_replace=col.cp, value=1, inplace=True)"
   ]
  },
  {
   "cell_type": "markdown",
   "metadata": {},
   "source": [
    "## Testing the accuracy when the top 8 features are used for fitting"
   ]
  },
  {
   "cell_type": "code",
   "execution_count": 16,
   "metadata": {
    "collapsed": true
   },
   "outputs": [],
   "source": [
    "df_top8 = df.loc[:,['cp','oldpeak','thal','ca','thalach','age','chol','trestbps','exang']]"
   ]
  },
  {
   "cell_type": "code",
   "execution_count": 17,
   "metadata": {
    "collapsed": false
   },
   "outputs": [
    {
     "name": "stdout",
     "output_type": "stream",
     "text": [
      "Accuracy:  0.855263157895\n",
      "\n",
      "\n",
      "Confusion Matrix:  [[28  6]\n",
      " [ 5 37]]\n",
      "\n",
      "\n",
      "Precision:  [ 0.84848485  0.86046512]\n",
      "Recall:     [ 0.82352941  0.88095238]\n",
      "Fscore:     [ 0.8358209   0.87058824]\n",
      "Support:    [34 42]\n"
     ]
    }
   ],
   "source": [
    "x_train,x_test,y_train,y_test = train_test_split(df_top8,y,test_size=0.25,random_state=0)\n",
    "clf = RandomForestClassifier()\n",
    "clf.fit(x_train,y_train)\n",
    "prediction = clf.predict(x_test)\n",
    "accuracy = accuracy_score(prediction,y_test)\n",
    "cm = confusion_matrix(prediction,y_test)\n",
    "prfs = precision_recall_fscore_support(prediction,y_test)\n",
    "print('Accuracy: ',accuracy)\n",
    "print('\\n')\n",
    "print('Confusion Matrix: ',cm)\n",
    "print('\\n')\n",
    "print('Precision: ', prfs[0])\n",
    "print('Recall:    ', prfs[1])\n",
    "print('Fscore:    ', prfs[2])\n",
    "print('Support:   ', prfs[3])"
   ]
  },
  {
   "cell_type": "code",
   "execution_count": 18,
   "metadata": {
    "collapsed": false
   },
   "outputs": [
    {
     "name": "stdout",
     "output_type": "stream",
     "text": [
      "14 14 12 0.881578947368\n",
      "\n",
      "\n",
      "Confusion Matrix:  [[28  8]\n",
      " [ 5 35]]\n",
      "\n",
      "\n",
      "Precision:  [ 0.84848485  0.81395349]\n",
      "Recall:     [ 0.77777778  0.875     ]\n",
      "Fscore:     [ 0.8115942   0.84337349]\n",
      "Support:    [36 40]\n"
     ]
    }
   ],
   "source": [
    "maxim = 0\n",
    "n_estimators=0\n",
    "max_depth=0\n",
    "max_cm=0\n",
    "max_prfs=0\n",
    "max_features=0\n",
    "for i in range(5,15):\n",
    "    for j in range(5,15):\n",
    "        for k in range(5,13):\n",
    "            x_train,x_test,y_train,y_test = train_test_split(x,y,test_size=0.25,random_state=0)\n",
    "            clf = RandomForestClassifier(n_estimators=i,max_depth=j,max_features=k)\n",
    "            clf.fit(x_train,y_train)\n",
    "            prediction = clf.predict(x_test)\n",
    "            accuracy = accuracy_score(prediction,y_test)\n",
    "            cm = confusion_matrix(prediction,y_test)\n",
    "            prfs = precision_recall_fscore_support(prediction,y_test)\n",
    "            if accuracy > maxim:\n",
    "                maxim = accuracy\n",
    "                n_estimators = i\n",
    "                max_depth = j\n",
    "                max_features = k\n",
    "                max_cm = cm\n",
    "                max_prfs=prfs\n",
    "                \n",
    "print(str(i)+\" \"+str(j)+\" \"+str(k)+\" \"+str(maxim))\n",
    "print('\\n')\n",
    "print('Confusion Matrix: ',cm)\n",
    "print('\\n')\n",
    "print('Precision: ', prfs[0])\n",
    "print('Recall:    ', prfs[1])\n",
    "print('Fscore:    ', prfs[2])\n",
    "print('Support:   ', prfs[3])"
   ]
  },
  {
   "cell_type": "markdown",
   "metadata": {},
   "source": [
    "### Let's test if standardization can improve the accuracy"
   ]
  },
  {
   "cell_type": "code",
   "execution_count": 19,
   "metadata": {
    "collapsed": true
   },
   "outputs": [],
   "source": [
    "from sklearn.preprocessing import StandardScaler"
   ]
  },
  {
   "cell_type": "code",
   "execution_count": 20,
   "metadata": {
    "collapsed": true
   },
   "outputs": [],
   "source": [
    "x = df.iloc[:,:-1]\n",
    "x_std = StandardScaler().fit_transform(x)"
   ]
  },
  {
   "cell_type": "code",
   "execution_count": 21,
   "metadata": {
    "collapsed": false
   },
   "outputs": [
    {
     "name": "stdout",
     "output_type": "stream",
     "text": [
      "14 14 12 0.881578947368\n"
     ]
    }
   ],
   "source": [
    "maxim = 0\n",
    "n_estimators=0\n",
    "max_depth=0\n",
    "max_features=0\n",
    "for i in range(5,15):\n",
    "    for j in range(5,15):\n",
    "        for k in range(5,13):\n",
    "            x_train,x_test,y_train,y_test = train_test_split(x,y,test_size=0.25,random_state=0)\n",
    "            clf = RandomForestClassifier(n_estimators=i,max_depth=j,max_features=k)\n",
    "            clf.fit(x_train,y_train)\n",
    "            prediction = clf.predict(x_test)\n",
    "            accuracy = accuracy_score(prediction,y_test)\n",
    "            if accuracy > maxim:\n",
    "                maxim = accuracy\n",
    "                n_estimators = i\n",
    "                max_depth = j\n",
    "                max_features = k\n",
    "print(str(i)+\" \"+str(j)+\" \"+str(k)+\" \"+str(maxim))"
   ]
  },
  {
   "cell_type": "code",
   "execution_count": 22,
   "metadata": {
    "collapsed": true
   },
   "outputs": [],
   "source": []
  },
  {
   "cell_type": "markdown",
   "metadata": {},
   "source": [
    "### Random forest classifier helped in achieving accuracy upto 88.15 % which is very good cosidering the size and quality of data"
   ]
  }
 ],
 "metadata": {
  "anaconda-cloud": {},
  "kernelspec": {
   "display_name": "Python [conda env:Anaconda3]",
   "language": "python",
   "name": "conda-env-Anaconda3-py"
  },
  "language_info": {
   "codemirror_mode": {
    "name": "ipython",
    "version": 3
   },
   "file_extension": ".py",
   "mimetype": "text/x-python",
   "name": "python",
   "nbconvert_exporter": "python",
   "pygments_lexer": "ipython3",
   "version": "3.5.5"
  }
 },
 "nbformat": 4,
 "nbformat_minor": 1
}
